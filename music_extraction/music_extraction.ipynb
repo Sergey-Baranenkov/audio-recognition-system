{
 "cells": [
  {
   "cell_type": "code",
   "execution_count": 1,
   "metadata": {
    "collapsed": true
   },
   "outputs": [],
   "source": [
    "import pandas as pd"
   ]
  },
  {
   "cell_type": "markdown",
   "source": [],
   "metadata": {
    "collapsed": false
   }
  },
  {
   "cell_type": "code",
   "execution_count": 2,
   "outputs": [
    {
     "name": "stderr",
     "output_type": "stream",
     "text": [
      "/tmp/ipykernel_22380/730077051.py:1: DtypeWarning: Columns (0) have mixed types. Specify dtype option on import or set low_memory=False.\n",
      "  tracks = pd.read_csv('/home/araxal/harddrive/fma_metadata/tracks.csv', header=1)\n"
     ]
    }
   ],
   "source": [
    "tracks = pd.read_csv('/home/araxal/harddrive/fma_metadata/tracks.csv', header=1)"
   ],
   "metadata": {
    "collapsed": false,
    "pycharm": {
     "name": "#%%\n"
    }
   }
  },
  {
   "cell_type": "code",
   "execution_count": 6,
   "outputs": [],
   "source": [
    "small = tracks[tracks['subset'] == 'small']"
   ],
   "metadata": {
    "collapsed": false,
    "pycharm": {
     "name": "#%%\n"
    }
   }
  },
  {
   "cell_type": "code",
   "execution_count": 9,
   "outputs": [
    {
     "name": "stdout",
     "output_type": "stream",
     "text": [
      "<class 'pandas.core.frame.DataFrame'>\n",
      "Int64Index: 8000 entries, 1 to 106386\n",
      "Data columns (total 53 columns):\n",
      " #   Column             Non-Null Count  Dtype  \n",
      "---  ------             --------------  -----  \n",
      " 0   Unnamed: 0         8000 non-null   object \n",
      " 1   comments           8000 non-null   float64\n",
      " 2   date_created       8000 non-null   object \n",
      " 3   date_released      5337 non-null   object \n",
      " 4   engineer           1142 non-null   object \n",
      " 5   favorites          8000 non-null   float64\n",
      " 6   id                 8000 non-null   float64\n",
      " 7   information        6502 non-null   object \n",
      " 8   listens            8000 non-null   float64\n",
      " 9   producer           1404 non-null   object \n",
      " 10  tags               8000 non-null   object \n",
      " 11  title              8000 non-null   object \n",
      " 12  tracks             8000 non-null   float64\n",
      " 13  type               7769 non-null   object \n",
      " 14  active_year_begin  1542 non-null   object \n",
      " 15  active_year_end    358 non-null    object \n",
      " 16  associated_labels  849 non-null    object \n",
      " 17  bio                5914 non-null   object \n",
      " 18  comments.1         8000 non-null   float64\n",
      " 19  date_created.1     8000 non-null   object \n",
      " 20  favorites.1        8000 non-null   float64\n",
      " 21  id.1               8000 non-null   float64\n",
      " 22  latitude           2899 non-null   float64\n",
      " 23  location           5471 non-null   object \n",
      " 24  longitude          2899 non-null   float64\n",
      " 25  members            3525 non-null   object \n",
      " 26  name               8000 non-null   object \n",
      " 27  related_projects   694 non-null    object \n",
      " 28  tags.1             8000 non-null   object \n",
      " 29  website            6452 non-null   object \n",
      " 30  wikipedia_page     410 non-null    object \n",
      " 31  split              8000 non-null   object \n",
      " 32  subset             8000 non-null   object \n",
      " 33  bit_rate           8000 non-null   float64\n",
      " 34  comments.2         8000 non-null   float64\n",
      " 35  composer           180 non-null    object \n",
      " 36  date_created.2     8000 non-null   object \n",
      " 37  date_recorded      465 non-null    object \n",
      " 38  duration           8000 non-null   float64\n",
      " 39  favorites.2        8000 non-null   float64\n",
      " 40  genre_top          8000 non-null   object \n",
      " 41  genres             8000 non-null   object \n",
      " 42  genres_all         8000 non-null   object \n",
      " 43  information.1      159 non-null    object \n",
      " 44  interest           8000 non-null   float64\n",
      " 45  language_code      1005 non-null   object \n",
      " 46  license            7995 non-null   object \n",
      " 47  listens.1          8000 non-null   float64\n",
      " 48  lyricist           26 non-null     object \n",
      " 49  number             8000 non-null   float64\n",
      " 50  publisher          76 non-null     object \n",
      " 51  tags.2             8000 non-null   object \n",
      " 52  title.1            8000 non-null   object \n",
      "dtypes: float64(17), object(36)\n",
      "memory usage: 3.3+ MB\n"
     ]
    }
   ],
   "source": [
    "small.info()"
   ],
   "metadata": {
    "collapsed": false,
    "pycharm": {
     "name": "#%%\n"
    }
   }
  },
  {
   "cell_type": "code",
   "execution_count": 13,
   "outputs": [],
   "source": [
    "small = small.rename(columns={'Unnamed: 0': 'track_id'})"
   ],
   "metadata": {
    "collapsed": false,
    "pycharm": {
     "name": "#%%\n"
    }
   }
  },
  {
   "cell_type": "code",
   "execution_count": 16,
   "outputs": [
    {
     "data": {
      "text/plain": "Empty DataFrame\nColumns: [track_id, comments, date_created, date_released, engineer, favorites, id, information, listens, producer, tags, title, tracks, type, active_year_begin, active_year_end, associated_labels, bio, comments.1, date_created.1, favorites.1, id.1, latitude, location, longitude, members, name, related_projects, tags.1, website, wikipedia_page, split, subset, bit_rate, comments.2, composer, date_created.2, date_recorded, duration, favorites.2, genre_top, genres, genres_all, information.1, interest, language_code, license, listens.1, lyricist, number, publisher, tags.2, title.1]\nIndex: []\n\n[0 rows x 53 columns]",
      "text/html": "<div>\n<style scoped>\n    .dataframe tbody tr th:only-of-type {\n        vertical-align: middle;\n    }\n\n    .dataframe tbody tr th {\n        vertical-align: top;\n    }\n\n    .dataframe thead th {\n        text-align: right;\n    }\n</style>\n<table border=\"1\" class=\"dataframe\">\n  <thead>\n    <tr style=\"text-align: right;\">\n      <th></th>\n      <th>track_id</th>\n      <th>comments</th>\n      <th>date_created</th>\n      <th>date_released</th>\n      <th>engineer</th>\n      <th>favorites</th>\n      <th>id</th>\n      <th>information</th>\n      <th>listens</th>\n      <th>producer</th>\n      <th>...</th>\n      <th>information.1</th>\n      <th>interest</th>\n      <th>language_code</th>\n      <th>license</th>\n      <th>listens.1</th>\n      <th>lyricist</th>\n      <th>number</th>\n      <th>publisher</th>\n      <th>tags.2</th>\n      <th>title.1</th>\n    </tr>\n  </thead>\n  <tbody>\n  </tbody>\n</table>\n<p>0 rows × 53 columns</p>\n</div>"
     },
     "execution_count": 16,
     "metadata": {},
     "output_type": "execute_result"
    }
   ],
   "source": [
    "small[small['track_id'] == 853]"
   ],
   "metadata": {
    "collapsed": false,
    "pycharm": {
     "name": "#%%\n"
    }
   }
  },
  {
   "cell_type": "code",
   "execution_count": 28,
   "outputs": [
    {
     "data": {
      "text/plain": "       Unnamed: 0 album              album.1              album.2  \\\n2               2     0  2008-11-26 01:44:45  2009-01-05 00:00:00   \n4               5     0  2008-11-26 01:44:45  2009-01-05 00:00:00   \n5              10     0  2008-11-26 01:45:08  2008-02-06 00:00:00   \n17            140     1  2008-11-26 01:49:59  2007-05-22 00:00:00   \n18            141     0  2008-11-26 01:49:57  2009-01-16 00:00:00   \n...           ...   ...                  ...                  ...   \n105715     154308     0  2017-03-05 04:57:38  2017-03-05 00:00:00   \n105716     154309     0  2017-03-05 04:57:38  2017-03-05 00:00:00   \n105817     154413     0  2017-03-07 18:44:11                  NaN   \n105818     154414     0  2017-03-07 18:44:11                  NaN   \n106387     155066     0  2017-03-24 19:40:34  2017-03-24 00:00:00   \n\n               album.3 album.4 album.5  \\\n2                  NaN       4       1   \n4                  NaN       4       1   \n5                  NaN       4       6   \n17                 NaN       1      61   \n18                 NaN       1      60   \n...                ...     ...     ...   \n105715             NaN       0   22780   \n105716             NaN       0   22780   \n105817  Ernie Indradat       0   22789   \n105818  Ernie Indradat       0   22789   \n106387        JBlanked       1   22899   \n\n                                                  album.6 album.7  \\\n2                                                 <p></p>    6073   \n4                                                 <p></p>    6073   \n5                                                     NaN   47632   \n17      <p>Alec K. Redfearn &amp; The Eyesores: Ellen ...    1300   \n18      <p>A full ensamble of strings, drums, electron...    1304   \n...                                                   ...     ...   \n105715                                                NaN   22334   \n105716                                                NaN   22334   \n105817  <p>A live performance at WFMU for Dark Night o...    3777   \n105818  <p>A live performance at WFMU for Dark Night o...    3777   \n106387  <p>Hip Hop, Old School type beat 2017, Trap Mu...    4524   \n\n                               album.8  ... track.10 track.11 track.12  \\\n2                                  NaN  ...      NaN     4656       en   \n4                                  NaN  ...      NaN     1933       en   \n5                                  NaN  ...      NaN    54881       en   \n17      Alec K. Refearn, Rob Pemberton  ...      NaN     1593       en   \n18                                 NaN  ...      NaN      839       en   \n...                                ...  ...      ...      ...      ...   \n105715                         Fleslit  ...      NaN     3371      NaN   \n105716                         Fleslit  ...      NaN     4525      NaN   \n105817                   Julie Bennack  ...      NaN      809      NaN   \n105818                   Julie Bennack  ...      NaN      851      NaN   \n106387                        JBlanked  ...      NaN     2065      NaN   \n\n                                                 track.13 track.14 track.15  \\\n2       Attribution-NonCommercial-ShareAlike 3.0 Inter...     1293      NaN   \n4       Attribution-NonCommercial-ShareAlike 3.0 Inter...     1151      NaN   \n5       Attribution-NonCommercial-NoDerivatives (aka M...    50135      NaN   \n17      Attribution-Noncommercial-No Derivative Works ...     1299      NaN   \n18      Attribution-Noncommercial-No Derivative Works ...      725      NaN   \n...                                                   ...      ...      ...   \n105715                                        Attribution     2705      NaN   \n105716                                        Attribution     3589      NaN   \n105817  Creative Commons Attribution-NonCommercial-NoD...      676      NaN   \n105818  Creative Commons Attribution-NonCommercial-NoD...      788      NaN   \n106387                                        Attribution     1474      NaN   \n\n       track.16 track.17                                           track.18  \\\n2             3      NaN                                                 []   \n4             6      NaN                                                 []   \n5             1      NaN                                                 []   \n17            2      NaN                                                 []   \n18            4      NaN                                                 []   \n...         ...      ...                                                ...   \n105715       17      NaN  ['fleslit', 'trap beat free use', 'trap beat f...   \n105716       18      NaN  ['fleslit', 'trap beat free use', 'trap beat f...   \n105817        9      NaN                                                 []   \n105818       10      NaN                                                 []   \n106387        3      NaN  ['old school beats', '2017 free instrumentals'...   \n\n                           track.19  \n2                              Food  \n4                        This World  \n5                           Freeway  \n17               Queen Of The Wires  \n18                             Ohio  \n...                             ...  \n105715                          MIA  \n105716                  A1 Symphony  \n105817                      Do Easy  \n105818  Dead Can Dance (uncensored)  \n106387                          Roy  \n\n[8000 rows x 53 columns]",
      "text/html": "<div>\n<style scoped>\n    .dataframe tbody tr th:only-of-type {\n        vertical-align: middle;\n    }\n\n    .dataframe tbody tr th {\n        vertical-align: top;\n    }\n\n    .dataframe thead th {\n        text-align: right;\n    }\n</style>\n<table border=\"1\" class=\"dataframe\">\n  <thead>\n    <tr style=\"text-align: right;\">\n      <th></th>\n      <th>Unnamed: 0</th>\n      <th>album</th>\n      <th>album.1</th>\n      <th>album.2</th>\n      <th>album.3</th>\n      <th>album.4</th>\n      <th>album.5</th>\n      <th>album.6</th>\n      <th>album.7</th>\n      <th>album.8</th>\n      <th>...</th>\n      <th>track.10</th>\n      <th>track.11</th>\n      <th>track.12</th>\n      <th>track.13</th>\n      <th>track.14</th>\n      <th>track.15</th>\n      <th>track.16</th>\n      <th>track.17</th>\n      <th>track.18</th>\n      <th>track.19</th>\n    </tr>\n  </thead>\n  <tbody>\n    <tr>\n      <th>2</th>\n      <td>2</td>\n      <td>0</td>\n      <td>2008-11-26 01:44:45</td>\n      <td>2009-01-05 00:00:00</td>\n      <td>NaN</td>\n      <td>4</td>\n      <td>1</td>\n      <td>&lt;p&gt;&lt;/p&gt;</td>\n      <td>6073</td>\n      <td>NaN</td>\n      <td>...</td>\n      <td>NaN</td>\n      <td>4656</td>\n      <td>en</td>\n      <td>Attribution-NonCommercial-ShareAlike 3.0 Inter...</td>\n      <td>1293</td>\n      <td>NaN</td>\n      <td>3</td>\n      <td>NaN</td>\n      <td>[]</td>\n      <td>Food</td>\n    </tr>\n    <tr>\n      <th>4</th>\n      <td>5</td>\n      <td>0</td>\n      <td>2008-11-26 01:44:45</td>\n      <td>2009-01-05 00:00:00</td>\n      <td>NaN</td>\n      <td>4</td>\n      <td>1</td>\n      <td>&lt;p&gt;&lt;/p&gt;</td>\n      <td>6073</td>\n      <td>NaN</td>\n      <td>...</td>\n      <td>NaN</td>\n      <td>1933</td>\n      <td>en</td>\n      <td>Attribution-NonCommercial-ShareAlike 3.0 Inter...</td>\n      <td>1151</td>\n      <td>NaN</td>\n      <td>6</td>\n      <td>NaN</td>\n      <td>[]</td>\n      <td>This World</td>\n    </tr>\n    <tr>\n      <th>5</th>\n      <td>10</td>\n      <td>0</td>\n      <td>2008-11-26 01:45:08</td>\n      <td>2008-02-06 00:00:00</td>\n      <td>NaN</td>\n      <td>4</td>\n      <td>6</td>\n      <td>NaN</td>\n      <td>47632</td>\n      <td>NaN</td>\n      <td>...</td>\n      <td>NaN</td>\n      <td>54881</td>\n      <td>en</td>\n      <td>Attribution-NonCommercial-NoDerivatives (aka M...</td>\n      <td>50135</td>\n      <td>NaN</td>\n      <td>1</td>\n      <td>NaN</td>\n      <td>[]</td>\n      <td>Freeway</td>\n    </tr>\n    <tr>\n      <th>17</th>\n      <td>140</td>\n      <td>1</td>\n      <td>2008-11-26 01:49:59</td>\n      <td>2007-05-22 00:00:00</td>\n      <td>NaN</td>\n      <td>1</td>\n      <td>61</td>\n      <td>&lt;p&gt;Alec K. Redfearn &amp;amp; The Eyesores: Ellen ...</td>\n      <td>1300</td>\n      <td>Alec K. Refearn, Rob Pemberton</td>\n      <td>...</td>\n      <td>NaN</td>\n      <td>1593</td>\n      <td>en</td>\n      <td>Attribution-Noncommercial-No Derivative Works ...</td>\n      <td>1299</td>\n      <td>NaN</td>\n      <td>2</td>\n      <td>NaN</td>\n      <td>[]</td>\n      <td>Queen Of The Wires</td>\n    </tr>\n    <tr>\n      <th>18</th>\n      <td>141</td>\n      <td>0</td>\n      <td>2008-11-26 01:49:57</td>\n      <td>2009-01-16 00:00:00</td>\n      <td>NaN</td>\n      <td>1</td>\n      <td>60</td>\n      <td>&lt;p&gt;A full ensamble of strings, drums, electron...</td>\n      <td>1304</td>\n      <td>NaN</td>\n      <td>...</td>\n      <td>NaN</td>\n      <td>839</td>\n      <td>en</td>\n      <td>Attribution-Noncommercial-No Derivative Works ...</td>\n      <td>725</td>\n      <td>NaN</td>\n      <td>4</td>\n      <td>NaN</td>\n      <td>[]</td>\n      <td>Ohio</td>\n    </tr>\n    <tr>\n      <th>...</th>\n      <td>...</td>\n      <td>...</td>\n      <td>...</td>\n      <td>...</td>\n      <td>...</td>\n      <td>...</td>\n      <td>...</td>\n      <td>...</td>\n      <td>...</td>\n      <td>...</td>\n      <td>...</td>\n      <td>...</td>\n      <td>...</td>\n      <td>...</td>\n      <td>...</td>\n      <td>...</td>\n      <td>...</td>\n      <td>...</td>\n      <td>...</td>\n      <td>...</td>\n      <td>...</td>\n    </tr>\n    <tr>\n      <th>105715</th>\n      <td>154308</td>\n      <td>0</td>\n      <td>2017-03-05 04:57:38</td>\n      <td>2017-03-05 00:00:00</td>\n      <td>NaN</td>\n      <td>0</td>\n      <td>22780</td>\n      <td>NaN</td>\n      <td>22334</td>\n      <td>Fleslit</td>\n      <td>...</td>\n      <td>NaN</td>\n      <td>3371</td>\n      <td>NaN</td>\n      <td>Attribution</td>\n      <td>2705</td>\n      <td>NaN</td>\n      <td>17</td>\n      <td>NaN</td>\n      <td>['fleslit', 'trap beat free use', 'trap beat f...</td>\n      <td>MIA</td>\n    </tr>\n    <tr>\n      <th>105716</th>\n      <td>154309</td>\n      <td>0</td>\n      <td>2017-03-05 04:57:38</td>\n      <td>2017-03-05 00:00:00</td>\n      <td>NaN</td>\n      <td>0</td>\n      <td>22780</td>\n      <td>NaN</td>\n      <td>22334</td>\n      <td>Fleslit</td>\n      <td>...</td>\n      <td>NaN</td>\n      <td>4525</td>\n      <td>NaN</td>\n      <td>Attribution</td>\n      <td>3589</td>\n      <td>NaN</td>\n      <td>18</td>\n      <td>NaN</td>\n      <td>['fleslit', 'trap beat free use', 'trap beat f...</td>\n      <td>A1 Symphony</td>\n    </tr>\n    <tr>\n      <th>105817</th>\n      <td>154413</td>\n      <td>0</td>\n      <td>2017-03-07 18:44:11</td>\n      <td>NaN</td>\n      <td>Ernie Indradat</td>\n      <td>0</td>\n      <td>22789</td>\n      <td>&lt;p&gt;A live performance at WFMU for Dark Night o...</td>\n      <td>3777</td>\n      <td>Julie Bennack</td>\n      <td>...</td>\n      <td>NaN</td>\n      <td>809</td>\n      <td>NaN</td>\n      <td>Creative Commons Attribution-NonCommercial-NoD...</td>\n      <td>676</td>\n      <td>NaN</td>\n      <td>9</td>\n      <td>NaN</td>\n      <td>[]</td>\n      <td>Do Easy</td>\n    </tr>\n    <tr>\n      <th>105818</th>\n      <td>154414</td>\n      <td>0</td>\n      <td>2017-03-07 18:44:11</td>\n      <td>NaN</td>\n      <td>Ernie Indradat</td>\n      <td>0</td>\n      <td>22789</td>\n      <td>&lt;p&gt;A live performance at WFMU for Dark Night o...</td>\n      <td>3777</td>\n      <td>Julie Bennack</td>\n      <td>...</td>\n      <td>NaN</td>\n      <td>851</td>\n      <td>NaN</td>\n      <td>Creative Commons Attribution-NonCommercial-NoD...</td>\n      <td>788</td>\n      <td>NaN</td>\n      <td>10</td>\n      <td>NaN</td>\n      <td>[]</td>\n      <td>Dead Can Dance (uncensored)</td>\n    </tr>\n    <tr>\n      <th>106387</th>\n      <td>155066</td>\n      <td>0</td>\n      <td>2017-03-24 19:40:34</td>\n      <td>2017-03-24 00:00:00</td>\n      <td>JBlanked</td>\n      <td>1</td>\n      <td>22899</td>\n      <td>&lt;p&gt;Hip Hop, Old School type beat 2017, Trap Mu...</td>\n      <td>4524</td>\n      <td>JBlanked</td>\n      <td>...</td>\n      <td>NaN</td>\n      <td>2065</td>\n      <td>NaN</td>\n      <td>Attribution</td>\n      <td>1474</td>\n      <td>NaN</td>\n      <td>3</td>\n      <td>NaN</td>\n      <td>['old school beats', '2017 free instrumentals'...</td>\n      <td>Roy</td>\n    </tr>\n  </tbody>\n</table>\n<p>8000 rows × 53 columns</p>\n</div>"
     },
     "execution_count": 28,
     "metadata": {},
     "output_type": "execute_result"
    }
   ],
   "source": [
    "df[df['set.1'] == 'small']"
   ],
   "metadata": {
    "collapsed": false,
    "pycharm": {
     "name": "#%%\n"
    }
   }
  },
  {
   "cell_type": "code",
   "execution_count": null,
   "outputs": [],
   "source": [],
   "metadata": {
    "collapsed": false,
    "pycharm": {
     "name": "#%%\n"
    }
   }
  }
 ],
 "metadata": {
  "kernelspec": {
   "display_name": "Python 3",
   "language": "python",
   "name": "python3"
  },
  "language_info": {
   "codemirror_mode": {
    "name": "ipython",
    "version": 2
   },
   "file_extension": ".py",
   "mimetype": "text/x-python",
   "name": "python",
   "nbconvert_exporter": "python",
   "pygments_lexer": "ipython2",
   "version": "2.7.6"
  }
 },
 "nbformat": 4,
 "nbformat_minor": 0
}